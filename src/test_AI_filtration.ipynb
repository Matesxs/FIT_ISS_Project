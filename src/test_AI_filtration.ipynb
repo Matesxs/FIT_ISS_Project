{
 "cells": [
  {
   "cell_type": "code",
   "execution_count": 19,
   "metadata": {},
   "outputs": [],
   "source": [
    "from tensorflow.keras import layers, optimizers, Model, callbacks, initializers\n",
    "from tensorflow.keras.constraints import max_norm\n",
    "from tensorflow import keras\n",
    "import tensorflow.keras.backend as K\n",
    "import tensorflow as tf\n",
    "from pydub import AudioSegment\n",
    "import matplotlib.pyplot as plt\n",
    "import threading\n",
    "import soundfile as sf\n",
    "from scipy.io import wavfile\n",
    "import numpy as np\n",
    "from tqdm import tqdm\n",
    "from scipy import signal\n",
    "import subprocess\n",
    "import math\n",
    "import shutil\n",
    "import time\n",
    "import gc\n",
    "import random\n",
    "import os\n",
    "\n",
    "TRAIN_DATA_PATH = r\"..\\\\data_train\"\n",
    "TEST_DATA_PATH = r\"..\\\\data_test\"\n",
    "TRAIN_DATASET_PATH = r\"..\\\\train_dataset\"\n",
    "TEST_DATASET_PATH = r\"..\\\\test_dataset\"\n",
    "\n",
    "MAX_SAMPLE_FREQUENCY = 256_000\n",
    "\n",
    "FRAME_SIZE = 4096\n",
    "FRAME_OVERLAP = 2048\n",
    "\n",
    "MAXIMUM_NUMBER_OF_NOISE_CHANNELS = 8\n",
    "NOISE_APLITUDE_MAX = 4\n",
    "NOISE_FREQ_MAX = 48_000\n",
    "\n",
    "PRETRAIN_EPOCHS = 1\n",
    "EPOCHS = 20\n",
    "STEPES_PER_EPOCH = 5000\n",
    "BATCH_SIZE = 64\n",
    "\n",
    "frame_shift = FRAME_SIZE - FRAME_OVERLAP"
   ]
  },
  {
   "cell_type": "markdown",
   "metadata": {},
   "source": [
    "Loading data"
   ]
  },
  {
   "cell_type": "code",
   "execution_count": 20,
   "metadata": {},
   "outputs": [],
   "source": [
    "def find_files(files, dirs=[], extensions=[]):\n",
    "    new_dirs = []\n",
    "    for d in dirs:\n",
    "        try:\n",
    "            new_dirs += [ os.path.join(d, f) for f in os.listdir(d) ]\n",
    "        except OSError:\n",
    "            if os.path.splitext(d)[1] in extensions:\n",
    "                files.append(d)\n",
    "\n",
    "    if new_dirs:\n",
    "        find_files(files, new_dirs, extensions)\n",
    "    else:\n",
    "        return"
   ]
  },
  {
   "cell_type": "code",
   "execution_count": 21,
   "metadata": {},
   "outputs": [
    {
     "name": "stdout",
     "output_type": "stream",
     "text": [
      "0\n"
     ]
    }
   ],
   "source": [
    "file_paths = []\n",
    "find_files(file_paths, dirs=[TRAIN_DATA_PATH, TEST_DATA_PATH], extensions=[\".mp3\", \".mp4\"])\n",
    "print(len(file_paths))\n",
    "\n",
    "# Convert all mp3 files to wav\n",
    "def convert_all_files():\n",
    "    for file_path in file_paths:\n",
    "        cleaned_name = file_path[:-4]\n",
    "\n",
    "        if file_path[-4:] == \".mp3\":\n",
    "            new_name = cleaned_name + \".wav\"\n",
    "\n",
    "            sound = AudioSegment.from_file(file_path, format=\"mp3\")\n",
    "            sound.export(new_name, \"wav\")\n",
    "\n",
    "            os.remove(file_path)\n",
    "        elif file_path[-4:] == \".mp4\":\n",
    "            subprocess.Popen(f\"ffmpeg -i {file_path} -vn -acodec pcm_s16le -ar 44100 -ac 2 {cleaned_name}.wav\").wait()\n",
    "            os.remove(file_path)\n",
    "\n",
    "convert_all_files()"
   ]
  },
  {
   "cell_type": "markdown",
   "metadata": {},
   "source": [
    "Process data"
   ]
  },
  {
   "cell_type": "code",
   "execution_count": 22,
   "metadata": {},
   "outputs": [],
   "source": [
    "def normalization(samples:np.ndarray):\n",
    "    smpl = samples.copy()\n",
    "    max_abs_val = max(abs(smpl))\n",
    "\n",
    "    # Normalization\n",
    "    smpl /= max_abs_val\n",
    "    return smpl"
   ]
  },
  {
   "cell_type": "code",
   "execution_count": 23,
   "metadata": {},
   "outputs": [],
   "source": [
    "def noise_data(data, fs):\n",
    "  sdata = data.copy()\n",
    "\n",
    "  length_in_secs = sdata.size / fs\n",
    "  time = np.linspace(0, length_in_secs, sdata.size, endpoint=False)\n",
    "\n",
    "  for _ in range(random.randint(1, MAXIMUM_NUMBER_OF_NOISE_CHANNELS)):\n",
    "    sdata += (random.random() * NOISE_APLITUDE_MAX) * np.cos(2 * np.pi * (random.random() * NOISE_FREQ_MAX) * time + (random.random() * 2 * np.pi))\n",
    "  \n",
    "  return sdata"
   ]
  },
  {
   "cell_type": "code",
   "execution_count": 24,
   "metadata": {},
   "outputs": [],
   "source": [
    "def create_frames(data:np.ndarray):\n",
    "  number_of_frames = data.size // frame_shift\n",
    "  frames = [data[idx * frame_shift : FRAME_SIZE + idx * frame_shift] for idx in range(number_of_frames)]\n",
    "  frames[len(frames) - 1] = np.pad(frames[len(frames) - 1], (0, FRAME_SIZE - frames[len(frames) - 1].shape[0]), \"constant\")\n",
    "  return frames"
   ]
  },
  {
   "cell_type": "code",
   "execution_count": 25,
   "metadata": {},
   "outputs": [],
   "source": [
    "def drawFFT(signal, frequency, idx=None):\n",
    "  fft = np.fft.fft(signal)\n",
    "\n",
    "  data_length = len(signal)\n",
    "  freq = np.arange(data_length)/(data_length/frequency)\n",
    "\n",
    "  half_length = data_length//2\n",
    "\n",
    "  freq_one_side = freq[:half_length]\n",
    "  fft = fft[:half_length]/half_length\n",
    "\n",
    "  plt.figure(figsize=(18,8))\n",
    "  plt.title(f\"FFT {idx}\" if idx is not None else \"Generic FFT\")\n",
    "  plt.plot(freq_one_side, abs(fft))\n",
    "  plt.xlabel('f[Hz]')\n",
    "  plt.ylabel('Amplituda[-]')\n",
    "  plt.tight_layout()\n",
    "  plt.show()"
   ]
  },
  {
   "cell_type": "code",
   "execution_count": 26,
   "metadata": {},
   "outputs": [],
   "source": [
    "def process_one_file(smpls, fs):\n",
    "  # Split and normalize\n",
    "  try:\n",
    "    if smpls.shape[1] > 0:\n",
    "      normalized_samples = []\n",
    "\n",
    "      for i in range(smpls.shape[1]):\n",
    "        normalized_samples.extend(normalization(smpls[:, i]))\n",
    "\n",
    "      normalized_samples = np.array(normalized_samples)\n",
    "    else:\n",
    "      normalized_samples = normalization(smpls)\n",
    "  except Exception as e:\n",
    "    print(f\"Exception on spliting data\\n{e}\")\n",
    "    normalized_samples = normalization(smpls)\n",
    "\n",
    "  # Create noised data and normalize them\n",
    "  noised_samples = noise_data(normalized_samples, fs)\n",
    "  noised_samples = normalization(noised_samples)\n",
    "\n",
    "  # plt.figure(figsize=(18,8))\n",
    "  # plt.plot(np.arange(normalized_samples.size) / fs, normalized_samples)\n",
    "  # plt.gca().set_xlabel('$t[s]$')\n",
    "  # plt.gca().set_ylabel('$Amplituda[-]$')\n",
    "  # plt.show()\n",
    "\n",
    "  # plt.figure(figsize=(18,8))\n",
    "  # plt.plot(np.arange(noised_samples.size) / fs, noised_samples)\n",
    "  # plt.gca().set_xlabel('$t[s]$')\n",
    "  # plt.gca().set_ylabel('$Amplituda[-]$')\n",
    "  # plt.show()\n",
    "\n",
    "  # Power density\n",
    "  # f1, Pxx1 = signal.periodogram(normalized_samples, fs, scaling=\"density\")\n",
    "  # print(f1.shape)\n",
    "  # print(Pxx1.shape)\n",
    "\n",
    "  # plt.semilogy(f1, Pxx1)\n",
    "  # plt.title(\"original\")\n",
    "  # plt.xlabel('f[Hz]')\n",
    "  # plt.ylabel('PSD [V**2/Hz]')\n",
    "  # plt.show()\n",
    "\n",
    "  # f2, Pxx2 = signal.periodogram(noised_samples, fs, scaling=\"density\")\n",
    "  # print(f2.shape)\n",
    "  # print(Pxx2.shape)\n",
    "\n",
    "  # plt.semilogy(f2, Pxx2)\n",
    "  # plt.title(\"noised\")\n",
    "  # plt.xlabel('f[Hz]')\n",
    "  # plt.ylabel('PSD [V**2/Hz]')\n",
    "  # plt.show()\n",
    "\n",
    "  # FFT\n",
    "  # normal_fft = np.fft.fft(normalized_samples)\n",
    "  # noise_fft = np.fft.fft(noised_samples)\n",
    "\n",
    "  # print(normal_fft.shape)\n",
    "  # print(noise_fft.shape)\n",
    "\n",
    "  # data_length = len(normal_fft)\n",
    "  # freq = np.arange(data_length)/(data_length/fs)\n",
    "\n",
    "  # half_length = data_length//2\n",
    "\n",
    "  # freq_one_side = freq[:half_length]\n",
    "  # normal_fft = normal_fft[:half_length]/half_length\n",
    "  # noise_fft = noise_fft[:half_length]/half_length\n",
    "\n",
    "  # plt.figure(figsize=(18,8))\n",
    "  # plt.title(f\"Normal\")\n",
    "  # plt.plot(freq_one_side, abs(normal_fft))\n",
    "  # plt.xlabel('f[Hz]')\n",
    "  # plt.ylabel('Amplituda[-]')\n",
    "  # plt.tight_layout()\n",
    "  # plt.show()\n",
    "\n",
    "  # plt.figure(figsize=(18,8))\n",
    "  # plt.title(f\"Noise\")\n",
    "  # plt.plot(freq_one_side, abs(noise_fft))\n",
    "  # plt.xlabel('f[Hz]')\n",
    "  # plt.ylabel('Amplituda[-]')\n",
    "  # plt.tight_layout()\n",
    "  # plt.show()\n",
    "\n",
    "  # Set signals to be between 0 and 1\n",
    "  normalized_samples += 1\n",
    "  noised_samples += 1\n",
    "  normalized_samples = normalization(normalized_samples)\n",
    "  noised_samples = normalization(noised_samples)\n",
    "\n",
    "  # plt.figure(figsize=(18,8))\n",
    "  # plt.plot(np.arange(normalized_samples.size) / fs, normalized_samples)\n",
    "  # plt.gca().set_xlabel('$t[s]$')\n",
    "  # plt.gca().set_ylabel('$Amplituda[-]$')\n",
    "  # plt.show()\n",
    "\n",
    "  # plt.figure(figsize=(18,8))\n",
    "  # plt.plot(np.arange(noised_samples.size) / fs, noised_samples)\n",
    "  # plt.gca().set_xlabel('$t[s]$')\n",
    "  # plt.gca().set_ylabel('$Amplituda[-]$')\n",
    "  # plt.show()\n",
    "\n",
    "  # Create frames\n",
    "  normalized_samples = create_frames(normalized_samples)\n",
    "  noised_samples = create_frames(noised_samples)\n",
    "\n",
    "  # plt.figure(figsize=(18,8))\n",
    "  # plt.plot(np.arange(normalized_samples[50].size) / fs, normalized_samples[50])\n",
    "  # plt.gca().set_xlabel('$t[s]$')\n",
    "  # plt.gca().set_ylabel('$Amplituda[-]$')\n",
    "  # plt.show()\n",
    "\n",
    "  # plt.figure(figsize=(18,8))\n",
    "  # plt.plot(np.arange(noised_samples[50].size) / fs, noised_samples[50])\n",
    "  # plt.gca().set_xlabel('$t[s]$')\n",
    "  # plt.gca().set_ylabel('$Amplituda[-]$')\n",
    "  # plt.show()\n",
    "\n",
    "  return normalized_samples, noised_samples"
   ]
  },
  {
   "cell_type": "markdown",
   "metadata": {},
   "source": [
    "Process training data"
   ]
  },
  {
   "cell_type": "code",
   "execution_count": 27,
   "metadata": {},
   "outputs": [
    {
     "name": "stdout",
     "output_type": "stream",
     "text": [
      "27\n"
     ]
    },
    {
     "name": "stderr",
     "output_type": "stream",
     "text": [
      "  4%|▎         | 1/27 [00:00<00:02,  9.01it/s]"
     ]
    },
    {
     "name": "stdout",
     "output_type": "stream",
     "text": [
      "Skipping Y2Mate.is - Can 3 Gamers Beat 1 Trackmania Pro Driving Backwards-DqmSovzS8HY-48k-1639525438813\n",
      "Skipping Y2Mate.is - CHUNGUS 2 - A very powerful 1Hz Minecraft CPU-FDiapbD0Xfg-128k-1639551674784\n"
     ]
    },
    {
     "name": "stderr",
     "output_type": "stream",
     "text": [
      "  7%|▋         | 2/27 [00:00<00:02,  9.41it/s]"
     ]
    },
    {
     "name": "stdout",
     "output_type": "stream",
     "text": [
      "Skipping Y2Mate.is - Dell Made a Framework-G9ZNwKsphEE-160k-1639632198476\n"
     ]
    },
    {
     "name": "stderr",
     "output_type": "stream",
     "text": [
      " 15%|█▍        | 4/27 [00:00<00:02,  9.58it/s]"
     ]
    },
    {
     "name": "stdout",
     "output_type": "stream",
     "text": [
      "Skipping Y2Mate.is - Hallelujah - Leonard Cohen [INSANE Piano Cover]-dp6wHzfAH7k-48k-1638725278647\n",
      "Skipping Y2Mate.is - How to solder components using hot air without them blowing away-gl9NuCiDR7s-48k-1639538474391\n"
     ]
    },
    {
     "name": "stderr",
     "output_type": "stream",
     "text": [
      " 19%|█▊        | 5/27 [00:00<00:02,  9.66it/s]"
     ]
    },
    {
     "name": "stdout",
     "output_type": "stream",
     "text": [
      "Skipping Y2Mate.is - How to Wire Up Ethernet Plugs the EASY WAY! (Cat5e  Cat6 RJ45 Pass Through Connectors)-NWhoJp8UQpo-48k-1639516438346\n"
     ]
    },
    {
     "name": "stderr",
     "output_type": "stream",
     "text": [
      " 26%|██▌       | 7/27 [00:00<00:02,  9.53it/s]"
     ]
    },
    {
     "name": "stdout",
     "output_type": "stream",
     "text": [
      "Skipping Y2Mate.is - I Challenged 20,000 People to a game of Geoguessr.-8xP9dzxOOGw-128k-1639551233412\n",
      "Skipping Y2Mate.is - I played a Trackmania tournament where backwards is faster...-U5qP2cB0E7k-48k-1639520188975\n"
     ]
    },
    {
     "name": "stderr",
     "output_type": "stream",
     "text": [
      " 33%|███▎      | 9/27 [00:00<00:01,  9.55it/s]"
     ]
    },
    {
     "name": "stdout",
     "output_type": "stream",
     "text": [
      "Skipping Y2Mate.is - I Tried to Improve Your Images...-QyU0rxB7wqI-128k-1639632522354\n",
      "Processing Y2Mate.is - International Drug Smuggler On How He Beat Airport Security  Minutes With  UNILAD  @LADbible TV-QEPFWgLwrFw-64k-1639550374941\n"
     ]
    },
    {
     "name": "stderr",
     "output_type": "stream",
     "text": [
      " 44%|████▍     | 12/27 [00:45<01:39,  6.63s/it]"
     ]
    },
    {
     "name": "stdout",
     "output_type": "stream",
     "text": [
      "Skipping Y2Mate.is - Magnetic dough and fluid...-wRLnwLsdK6A-48k-1639538350175\n",
      "Skipping Y2Mate.is - Making a bolt with ZIGZAG threads - SO STRANGE! - Lost PLA metal casting-cvi8A2XCK94-160k-1639551618509\n",
      "Skipping Y2Mate.is - My Chemical Romance - Famous Last Words [Official Music Video] [HD]-8bbTtPL1jRs-48k-1639519742528\n"
     ]
    },
    {
     "name": "stderr",
     "output_type": "stream",
     "text": [
      " 48%|████▊     | 13/27 [00:45<01:05,  4.66s/it]"
     ]
    },
    {
     "name": "stdout",
     "output_type": "stream",
     "text": [
      "Processing Y2Mate.is - Panama Canal Toll Fee  How Much Do Ships Pay  Chief MAKOi Seaman Vlog-_FxBBE8DfJI-64k-1639551563045\n"
     ]
    },
    {
     "name": "stderr",
     "output_type": "stream",
     "text": [
      " 59%|█████▉    | 16/27 [01:30<01:30,  8.26s/it]"
     ]
    },
    {
     "name": "stdout",
     "output_type": "stream",
     "text": [
      "Skipping Y2Mate.is - Proč Je Tento Havajský Ostrov Pro Veřejnost Uzavřen Více Než 100 Let Zakázaný Ostrov - Niihau-nxzFwbx0i9Q-160k-1639551446148\n",
      "Skipping Y2Mate.is - rMildlyinfuriating  not mad, just upset-9P0GN03yp54-128k-1639631589682\n",
      "Skipping Y2Mate.is - Sommelier Shops For Holiday Wines (14 Different Occasions)  World Of Wine  Bon Appétit-eygxbraz9v8-128k-1639551339499\n"
     ]
    },
    {
     "name": "stderr",
     "output_type": "stream",
     "text": [
      " 70%|███████   | 19/27 [01:30<00:23,  2.91s/it]"
     ]
    },
    {
     "name": "stdout",
     "output_type": "stream",
     "text": [
      "Skipping Y2Mate.is - Stupid C++ Tricks Most Dangerous C Functions (E02)-B9DouAlkZlc-48k-1639516194897\n",
      "Skipping Y2Mate.is - The Big Misconception About Electricity-bHIhgxav9LY-160k-1638729545425\n",
      "Skipping Y2Mate.is - The Biggest Accidents And Injuries On MythBusters-CokW5No-vIU-128k-1639550425817\n"
     ]
    },
    {
     "name": "stderr",
     "output_type": "stream",
     "text": [
      " 81%|████████▏ | 22/27 [01:30<00:05,  1.07s/it]"
     ]
    },
    {
     "name": "stdout",
     "output_type": "stream",
     "text": [
      "Skipping Y2Mate.is - The Elder Scrolls Online After 1000 Hours-ECoXQjFFr7s-160k-1639551763030\n",
      "Skipping Y2Mate.is - These TikTok ‘’Musicians’’ Need to STOP-CIhzQIFmZTI-48k-1639529539528\n",
      "Skipping Y2Mate.is - Trick Your Sense Of Taste In 5 Different Ways-6pTv-2XPBl4-48k-1639529673526\n"
     ]
    },
    {
     "name": "stderr",
     "output_type": "stream",
     "text": [
      " 93%|█████████▎| 25/27 [01:31<00:00,  2.30it/s]"
     ]
    },
    {
     "name": "stdout",
     "output_type": "stream",
     "text": [
      "Skipping Y2Mate.is - Watch Escapement Desk Toy-RcnWL6_6Xu4-96k-1639551819659\n",
      "Skipping Y2Mate.is - When you accidentally write theme songs that already exist-K-sGekaaGJA-48k-1639515859068\n",
      "Skipping Y2Mate.is - Why Ernest Wright Scissors Are So Expensive  So Expensive-bK4AWtTV3h4-48k-1639529628215\n"
     ]
    },
    {
     "name": "stderr",
     "output_type": "stream",
     "text": [
      "100%|██████████| 27/27 [01:31<00:00,  3.39s/it]"
     ]
    },
    {
     "name": "stdout",
     "output_type": "stream",
     "text": [
      "Skipping Y2Mate.is - Youtuberku šikanovali na internetu. Skončilo to fatálně - WoLe #175-jLjNquL1HbY-128k-1639631444498\n"
     ]
    },
    {
     "name": "stderr",
     "output_type": "stream",
     "text": [
      "\n"
     ]
    }
   ],
   "source": [
    "file_paths = []\n",
    "find_files(file_paths, dirs=[TRAIN_DATA_PATH], extensions=[\".wav\"])\n",
    "print(len(file_paths))\n",
    "\n",
    "if not os.path.exists(TRAIN_DATASET_PATH):\n",
    "  os.mkdir(TRAIN_DATASET_PATH)\n",
    "\n",
    "for file_path in tqdm(file_paths):\n",
    "  cleaned_name = file_path[:-4].split(\"\\\\\")[-1]\n",
    "\n",
    "  if not os.path.exists(f\"{TRAIN_DATASET_PATH}/{cleaned_name}\"):\n",
    "    os.mkdir(f\"{TRAIN_DATASET_PATH}/{cleaned_name}\")\n",
    "\n",
    "    smpls, f = sf.read(file_path)\n",
    "    gc.collect()\n",
    "\n",
    "    print(f\"Processing {cleaned_name}\")\n",
    "      \n",
    "    random.seed()\n",
    "    norm_s, nois_s = process_one_file(smpls, f)\n",
    "\n",
    "    offset = len(os.listdir(f\"{TRAIN_DATASET_PATH}/{cleaned_name}\"))\n",
    "\n",
    "    for idx, (a, b) in enumerate(zip(norm_s, nois_s)):\n",
    "      if not os.path.exists(f\"{TRAIN_DATASET_PATH}/{cleaned_name}/{idx + offset}_{file_path}\"):\n",
    "        np.save(f\"{TRAIN_DATASET_PATH}/{cleaned_name}/{idx + offset}_{f}\", np.array([a, b, np.fft.fft(b)]))\n",
    "  else:\n",
    "    print(f\"Skipping {cleaned_name}\")\n",
    "  gc.collect()"
   ]
  },
  {
   "cell_type": "markdown",
   "metadata": {},
   "source": [
    "Process testing data"
   ]
  },
  {
   "cell_type": "code",
   "execution_count": 28,
   "metadata": {},
   "outputs": [
    {
     "name": "stdout",
     "output_type": "stream",
     "text": [
      "9\n"
     ]
    },
    {
     "name": "stderr",
     "output_type": "stream",
     "text": [
      " 11%|█         | 1/9 [00:00<00:00,  8.62it/s]"
     ]
    },
    {
     "name": "stdout",
     "output_type": "stream",
     "text": [
      "Skipping Y2Mate.is - 15 Biggest And Most Expensive Mining FINDS-GAwIKLthp-U-48k-1639522068716\n",
      "Skipping Y2Mate.is - Chernobyl (2019) - It's not 3 Roentgen it is 15000 scene.-yPRMx2k1NM8-128k-1639552069014\n"
     ]
    },
    {
     "name": "stderr",
     "output_type": "stream",
     "text": [
      " 22%|██▏       | 2/9 [00:00<00:00,  8.99it/s]"
     ]
    },
    {
     "name": "stdout",
     "output_type": "stream",
     "text": [
      "Skipping Y2Mate.is - CHUNGUS 2 - A very powerful 1Hz Minecraft CPU-FDiapbD0Xfg-160k-1639551674263\n"
     ]
    },
    {
     "name": "stderr",
     "output_type": "stream",
     "text": [
      " 44%|████▍     | 4/9 [00:00<00:00,  9.12it/s]"
     ]
    },
    {
     "name": "stdout",
     "output_type": "stream",
     "text": [
      "Skipping Y2Mate.is - I Challenged 20,000 People to a game of Geoguessr.-8xP9dzxOOGw-64k-1639551249719\n",
      "Skipping Y2Mate.is - Making a bolt with ZIGZAG threads - SO STRANGE! - Lost PLA metal casting-cvi8A2XCK94-64k-1639551619488\n"
     ]
    },
    {
     "name": "stderr",
     "output_type": "stream",
     "text": [
      " 56%|█████▌    | 5/9 [00:00<00:00,  9.11it/s]"
     ]
    },
    {
     "name": "stdout",
     "output_type": "stream",
     "text": [
      "Skipping Y2Mate.is - Proč Je Tento Havajský Ostrov Pro Veřejnost Uzavřen Více Než 100 Let Zakázaný Ostrov - Niihau-nxzFwbx0i9Q-96k-1639551444666\n"
     ]
    },
    {
     "name": "stderr",
     "output_type": "stream",
     "text": [
      " 78%|███████▊  | 7/9 [00:00<00:00,  9.13it/s]"
     ]
    },
    {
     "name": "stdout",
     "output_type": "stream",
     "text": [
      "Skipping Y2Mate.is - Sommelier Shops For Holiday Wines (14 Different Occasions)  World Of Wine  Bon Appétit-eygxbraz9v8-160k-1639551332303\n",
      "Skipping Y2Mate.is - The Big Misconception About Electricity-bHIhgxav9LY-128k-1639551389489\n"
     ]
    },
    {
     "name": "stderr",
     "output_type": "stream",
     "text": [
      " 89%|████████▉ | 8/9 [00:00<00:00,  9.22it/s]"
     ]
    },
    {
     "name": "stdout",
     "output_type": "stream",
     "text": [
      "Skipping Y2Mate.is - Watch Escapement Desk Toy-RcnWL6_6Xu4-160k-1639551826187\n"
     ]
    },
    {
     "name": "stderr",
     "output_type": "stream",
     "text": [
      "100%|██████████| 9/9 [00:00<00:00,  9.15it/s]\n"
     ]
    }
   ],
   "source": [
    "file_paths = []\n",
    "find_files(file_paths, dirs=[TEST_DATA_PATH], extensions=[\".wav\"])\n",
    "print(len(file_paths))\n",
    "\n",
    "if not os.path.exists(TEST_DATASET_PATH):\n",
    "  os.mkdir(TEST_DATASET_PATH)\n",
    "\n",
    "for file_path in tqdm(file_paths):\n",
    "  cleaned_name = file_path[:-4].split(\"\\\\\")[-1]\n",
    "\n",
    "  if not os.path.exists(f\"{TEST_DATASET_PATH}/{cleaned_name}\"):\n",
    "    os.mkdir(f\"{TEST_DATASET_PATH}/{cleaned_name}\")\n",
    "\n",
    "    smpls, f = sf.read(file_path)\n",
    "    gc.collect()\n",
    "\n",
    "    print(f\"Processing {cleaned_name}\")\n",
    "      \n",
    "    random.seed()\n",
    "    norm_s, nois_s = process_one_file(smpls, f)\n",
    "\n",
    "    offset = len(os.listdir(f\"{TEST_DATASET_PATH}/{cleaned_name}\"))\n",
    "\n",
    "    for idx, (a, b) in enumerate(zip(norm_s, nois_s)):\n",
    "      if not os.path.exists(f\"{TEST_DATASET_PATH}/{cleaned_name}/{idx + offset}_{file_path}\"):\n",
    "        np.save(f\"{TEST_DATASET_PATH}/{cleaned_name}/{idx + offset}_{f}\", np.array([a, b, np.fft.fft(b)]))\n",
    "  else:\n",
    "    print(f\"Skipping {cleaned_name}\")\n",
    "  gc.collect()"
   ]
  },
  {
   "cell_type": "markdown",
   "metadata": {},
   "source": [
    "Data generator"
   ]
  },
  {
   "cell_type": "code",
   "execution_count": 29,
   "metadata": {},
   "outputs": [],
   "source": [
    "def convert_imag_to_parts(array:np.ndarray):\n",
    "    tmp = np.empty((array.shape[0], 2))\n",
    "\n",
    "    for idx, a in enumerate(array):\n",
    "        tmp[idx][0] = a.real\n",
    "        tmp[idx][1] = a.imag\n",
    "\n",
    "    return np.nan_to_num(tmp)\n",
    "\n",
    "class DataGenerator(keras.utils.Sequence, threading.Thread):\n",
    "    def __init__(self, path, dim, batch_size=32, shuffle=True):\n",
    "        super(DataGenerator, self).__init__()\n",
    "\n",
    "        self.dim = dim\n",
    "        self.files = []\n",
    "        find_files(self.files, dirs=[path], extensions=[\".npy\"])\n",
    "\n",
    "        self.batch_size = batch_size\n",
    "        self.shuffle = shuffle\n",
    "\n",
    "        self.queue = []\n",
    "\n",
    "        self.length = int(np.floor(len(self.files) / self.batch_size))\n",
    "        self.index = 0\n",
    "        self.daemon = True\n",
    "        self.__terminate = False;\n",
    "        self.shuffle_data()\n",
    "        self.start()\n",
    "\n",
    "    def __del__(self):\n",
    "        self.__terminate = True\n",
    "\n",
    "    def __len__(self):\n",
    "        return self.length\n",
    "\n",
    "    def run(self) -> None:\n",
    "        while True:\n",
    "            if self.__terminate: break\n",
    "\n",
    "            if len(self.queue) < 20:\n",
    "                if (self.index + 1) >= self.length:\n",
    "                    self.shuffle_data()\n",
    "                    self.index = 0\n",
    "\n",
    "                files = self.files[self.index*self.batch_size:(self.index+1)*self.batch_size]\n",
    "                self.index += 1\n",
    "\n",
    "                # Generate data\n",
    "                data = self.__data_generation(files)\n",
    "                if data is not None:\n",
    "                    self.queue.append(data)\n",
    "            else: time.sleep(0.1)\n",
    "\n",
    "    def __getitem__(self, _):\n",
    "        while len(self.queue) == 0: time.sleep(0.01)\n",
    "        return self.queue.pop()\n",
    "\n",
    "    def shuffle_data(self):\n",
    "        if self.shuffle == True:\n",
    "            np.random.shuffle(self.files)\n",
    "\n",
    "    def on_epoch_end(self):\n",
    "        pass\n",
    "\n",
    "    def __data_generation(self, files):\n",
    "        # Initialization\n",
    "        X = np.empty((self.batch_size, *self.dim))\n",
    "        fft = np.empty((self.batch_size, self.dim[0], 2))\n",
    "        f = np.empty((self.batch_size), dtype=float)\n",
    "        y = np.empty((self.batch_size, *self.dim))\n",
    "\n",
    "        # Generate data\n",
    "        for idx, file in enumerate(files):\n",
    "            freq = float(file[:-4].split(\"_\")[-1])\n",
    "            loaded_data = np.load(file)\n",
    "\n",
    "            try:\n",
    "                X[idx,] = loaded_data[1].real\n",
    "                fft[idx,] = convert_imag_to_parts(loaded_data[2])\n",
    "                f[idx] = freq / MAX_SAMPLE_FREQUENCY\n",
    "                y[idx,] = loaded_data[0].real\n",
    "            except Exception as e:\n",
    "                print(f\"Failed to process {file}\\n{e}\")\n",
    "                return None\n",
    "\n",
    "        return [X, fft, f], y"
   ]
  },
  {
   "cell_type": "markdown",
   "metadata": {},
   "source": [
    "Model"
   ]
  },
  {
   "cell_type": "code",
   "execution_count": 30,
   "metadata": {},
   "outputs": [],
   "source": [
    "max_norm_value = 2.0\n",
    "\n",
    "def create_model():\n",
    "  inp1 = layers.Input(shape=(FRAME_SIZE,1), name=\"Frame Input\")\n",
    "  inp2 = layers.Input(shape=(FRAME_SIZE,2), name=\"FFT Input\")\n",
    "  inp3 = layers.Input(shape=(1,), name=\"Frequency Input\")\n",
    "\n",
    "  y = layers.Dense(FRAME_SIZE)(inp3)\n",
    "  y = layers.LeakyReLU(0.2)(y)\n",
    "  y = layers.Dropout(0.1)(y)\n",
    "  y = layers.Reshape((FRAME_SIZE, 1))(y)\n",
    "\n",
    "  x = layers.concatenate([inp1, inp2, y])\n",
    "\n",
    "  # Encoder\n",
    "  x = layers.Conv1D(256, kernel_size=3, strides=2, padding=\"same\", kernel_constraint=max_norm(max_norm_value), kernel_initializer=initializers.RandomNormal(stddev=0.02))(x)\n",
    "  x1 = layers.LeakyReLU(0.2)(x)\n",
    "\n",
    "  x = layers.Conv1D(128, kernel_size=3, strides=2, padding=\"same\", kernel_constraint=max_norm(max_norm_value), kernel_initializer=initializers.RandomNormal(stddev=0.02))(x1)\n",
    "  x2 = layers.LeakyReLU(0.2)(x)\n",
    "\n",
    "  x = layers.Conv1D(64, kernel_size=3, strides=2, padding=\"same\", kernel_constraint=max_norm(max_norm_value), kernel_initializer=initializers.RandomNormal(stddev=0.02))(x2)\n",
    "  x3 = layers.LeakyReLU(0.2)(x)\n",
    "  \n",
    "  # Encoded value\n",
    "\n",
    "  # Edecoder\n",
    "  x = layers.Conv1D(64, kernel_size=3, padding=\"same\", kernel_constraint=max_norm(max_norm_value), kernel_initializer=initializers.RandomNormal(stddev=0.02))(x3)\n",
    "  x = layers.LeakyReLU(0.2)(x)\n",
    "\n",
    "  x = layers.Add()([x, x3])\n",
    "\n",
    "  x = layers.Conv1D(64, kernel_size=3, padding=\"same\", kernel_constraint=max_norm(max_norm_value), kernel_initializer=initializers.RandomNormal(stddev=0.02))(x)\n",
    "  x = layers.UpSampling1D(2)(x)\n",
    "  x = layers.LeakyReLU(0.2)(x)\n",
    "\n",
    "  x = layers.Conv1D(128, kernel_size=3, padding=\"same\", kernel_constraint=max_norm(max_norm_value), kernel_initializer=initializers.RandomNormal(stddev=0.02))(x)\n",
    "  x = layers.LeakyReLU(0.2)(x)\n",
    "\n",
    "  x = layers.Add()([x, x2])\n",
    "\n",
    "  x = layers.Conv1D(128, kernel_size=3, padding=\"same\", kernel_constraint=max_norm(max_norm_value), kernel_initializer=initializers.RandomNormal(stddev=0.02))(x)\n",
    "  x = layers.UpSampling1D(2)(x)\n",
    "  x = layers.LeakyReLU(0.2)(x)\n",
    "\n",
    "  x = layers.Conv1D(256, kernel_size=3, padding=\"same\", kernel_constraint=max_norm(max_norm_value), kernel_initializer=initializers.RandomNormal(stddev=0.02))(x)\n",
    "  x = layers.LeakyReLU(0.2)(x)\n",
    "\n",
    "  x = layers.Add()([x, x1])\n",
    "\n",
    "  x = layers.Conv1D(256, kernel_size=3, padding=\"same\", kernel_constraint=max_norm(max_norm_value), kernel_initializer=initializers.RandomNormal(stddev=0.02))(x)\n",
    "  x = layers.UpSampling1D(2)(x)\n",
    "  x = layers.LeakyReLU(0.2)(x)\n",
    "\n",
    "  # Output\n",
    "  x = layers.Conv1D(1, kernel_size=1, kernel_constraint=max_norm(max_norm_value), activation='sigmoid', padding='same')(x)\n",
    "  return Model([inp1, inp2, inp3], x)"
   ]
  },
  {
   "cell_type": "code",
   "execution_count": 31,
   "metadata": {},
   "outputs": [
    {
     "name": "stdout",
     "output_type": "stream",
     "text": [
      "13659\n",
      "4413\n"
     ]
    }
   ],
   "source": [
    "train_data_generator = DataGenerator(TRAIN_DATASET_PATH, (FRAME_SIZE,), BATCH_SIZE)\n",
    "test_data_generator = DataGenerator(TEST_DATASET_PATH, (FRAME_SIZE,), BATCH_SIZE)\n",
    "\n",
    "print(len(train_data_generator))\n",
    "print(len(test_data_generator))"
   ]
  },
  {
   "cell_type": "markdown",
   "metadata": {},
   "source": [
    "Training"
   ]
  },
  {
   "cell_type": "code",
   "execution_count": 32,
   "metadata": {},
   "outputs": [],
   "source": [
    "def noiseToSignalLoss(y_true, y_pred):\n",
    "    losses = tf.math.divide(tf.math.reduce_sum(tf.math.pow(tf.math.abs(tf.math.subtract(y_true,y_pred)),2)),\n",
    "                            tf.math.reduce_sum(tf.math.pow(tf.math.abs(y_true),2)))\n",
    "    return tf.reduce_mean(losses)"
   ]
  },
  {
   "cell_type": "code",
   "execution_count": 33,
   "metadata": {},
   "outputs": [],
   "source": [
    "def SNR(y_true, y_pred):\n",
    "  return -10.0 * K.log(K.mean(K.square(y_pred - y_true))) / K.log(10.0)"
   ]
  },
  {
   "cell_type": "code",
   "execution_count": 34,
   "metadata": {},
   "outputs": [
    {
     "name": "stdout",
     "output_type": "stream",
     "text": [
      "Model: \"model_1\"\n",
      "__________________________________________________________________________________________________\n",
      " Layer (type)                   Output Shape         Param #     Connected to                     \n",
      "==================================================================================================\n",
      " Frequency Input (InputLayer)   [(None, 1)]          0           []                               \n",
      "                                                                                                  \n",
      " dense_1 (Dense)                (None, 4096)         8192        ['Frequency Input[0][0]']        \n",
      "                                                                                                  \n",
      " leaky_re_lu_10 (LeakyReLU)     (None, 4096)         0           ['dense_1[0][0]']                \n",
      "                                                                                                  \n",
      " dropout_1 (Dropout)            (None, 4096)         0           ['leaky_re_lu_10[0][0]']         \n",
      "                                                                                                  \n",
      " Frame Input (InputLayer)       [(None, 4096, 1)]    0           []                               \n",
      "                                                                                                  \n",
      " FFT Input (InputLayer)         [(None, 4096, 2)]    0           []                               \n",
      "                                                                                                  \n",
      " reshape_1 (Reshape)            (None, 4096, 1)      0           ['dropout_1[0][0]']              \n",
      "                                                                                                  \n",
      " concatenate_1 (Concatenate)    (None, 4096, 4)      0           ['Frame Input[0][0]',            \n",
      "                                                                  'FFT Input[0][0]',              \n",
      "                                                                  'reshape_1[0][0]']              \n",
      "                                                                                                  \n",
      " conv1d_10 (Conv1D)             (None, 2048, 256)    3328        ['concatenate_1[0][0]']          \n",
      "                                                                                                  \n",
      " leaky_re_lu_11 (LeakyReLU)     (None, 2048, 256)    0           ['conv1d_10[0][0]']              \n",
      "                                                                                                  \n",
      " conv1d_11 (Conv1D)             (None, 1024, 128)    98432       ['leaky_re_lu_11[0][0]']         \n",
      "                                                                                                  \n",
      " leaky_re_lu_12 (LeakyReLU)     (None, 1024, 128)    0           ['conv1d_11[0][0]']              \n",
      "                                                                                                  \n",
      " conv1d_12 (Conv1D)             (None, 512, 64)      24640       ['leaky_re_lu_12[0][0]']         \n",
      "                                                                                                  \n",
      " leaky_re_lu_13 (LeakyReLU)     (None, 512, 64)      0           ['conv1d_12[0][0]']              \n",
      "                                                                                                  \n",
      " conv1d_13 (Conv1D)             (None, 512, 64)      12352       ['leaky_re_lu_13[0][0]']         \n",
      "                                                                                                  \n",
      " leaky_re_lu_14 (LeakyReLU)     (None, 512, 64)      0           ['conv1d_13[0][0]']              \n",
      "                                                                                                  \n",
      " add_3 (Add)                    (None, 512, 64)      0           ['leaky_re_lu_14[0][0]',         \n",
      "                                                                  'leaky_re_lu_13[0][0]']         \n",
      "                                                                                                  \n",
      " conv1d_14 (Conv1D)             (None, 512, 64)      12352       ['add_3[0][0]']                  \n",
      "                                                                                                  \n",
      " up_sampling1d_3 (UpSampling1D)  (None, 1024, 64)    0           ['conv1d_14[0][0]']              \n",
      "                                                                                                  \n",
      " leaky_re_lu_15 (LeakyReLU)     (None, 1024, 64)     0           ['up_sampling1d_3[0][0]']        \n",
      "                                                                                                  \n",
      " conv1d_15 (Conv1D)             (None, 1024, 128)    24704       ['leaky_re_lu_15[0][0]']         \n",
      "                                                                                                  \n",
      " leaky_re_lu_16 (LeakyReLU)     (None, 1024, 128)    0           ['conv1d_15[0][0]']              \n",
      "                                                                                                  \n",
      " add_4 (Add)                    (None, 1024, 128)    0           ['leaky_re_lu_16[0][0]',         \n",
      "                                                                  'leaky_re_lu_12[0][0]']         \n",
      "                                                                                                  \n",
      " conv1d_16 (Conv1D)             (None, 1024, 128)    49280       ['add_4[0][0]']                  \n",
      "                                                                                                  \n",
      " up_sampling1d_4 (UpSampling1D)  (None, 2048, 128)   0           ['conv1d_16[0][0]']              \n",
      "                                                                                                  \n",
      " leaky_re_lu_17 (LeakyReLU)     (None, 2048, 128)    0           ['up_sampling1d_4[0][0]']        \n",
      "                                                                                                  \n",
      " conv1d_17 (Conv1D)             (None, 2048, 256)    98560       ['leaky_re_lu_17[0][0]']         \n",
      "                                                                                                  \n",
      " leaky_re_lu_18 (LeakyReLU)     (None, 2048, 256)    0           ['conv1d_17[0][0]']              \n",
      "                                                                                                  \n",
      " add_5 (Add)                    (None, 2048, 256)    0           ['leaky_re_lu_18[0][0]',         \n",
      "                                                                  'leaky_re_lu_11[0][0]']         \n",
      "                                                                                                  \n",
      " conv1d_18 (Conv1D)             (None, 2048, 256)    196864      ['add_5[0][0]']                  \n",
      "                                                                                                  \n",
      " up_sampling1d_5 (UpSampling1D)  (None, 4096, 256)   0           ['conv1d_18[0][0]']              \n",
      "                                                                                                  \n",
      " leaky_re_lu_19 (LeakyReLU)     (None, 4096, 256)    0           ['up_sampling1d_5[0][0]']        \n",
      "                                                                                                  \n",
      " conv1d_19 (Conv1D)             (None, 4096, 1)      257         ['leaky_re_lu_19[0][0]']         \n",
      "                                                                                                  \n",
      "==================================================================================================\n",
      "Total params: 528,961\n",
      "Trainable params: 528,961\n",
      "Non-trainable params: 0\n",
      "__________________________________________________________________________________________________\n",
      "[(None, 4096, 1), (None, 4096, 2), (None, 1)]\n"
     ]
    }
   ],
   "source": [
    "model = create_model()\n",
    "model.summary()\n",
    "# tf.keras.utils.plot_model(model, show_shapes=True)\n",
    "print(model.input_shape)"
   ]
  },
  {
   "cell_type": "code",
   "execution_count": 35,
   "metadata": {},
   "outputs": [],
   "source": [
    "# model.compile(optimizer=optimizers.Adam(learning_rate=1e-3), loss=\"binary_crossentropy\", metrics=[\"accuracy\"])\n",
    "model.compile(optimizer=optimizers.Adam(1e-4, 0.5), loss=noiseToSignalLoss, metrics=[SNR])\n",
    "# model.compile(optimizer=optimizers.Adam(learning_rate=1e-3), loss=\"mse\", metrics=[\"accuracy\"])"
   ]
  },
  {
   "cell_type": "code",
   "execution_count": 36,
   "metadata": {},
   "outputs": [
    {
     "name": "stdout",
     "output_type": "stream",
     "text": [
      "Starting pretrain\n",
      "Epoch 1/2\n",
      "5000/5000 [==============================] - 1147s 223ms/step - loss: 0.0098 - PSNR: 26.1530\n",
      "Epoch 2/2\n",
      "4081/5000 [=======================>......] - ETA: 4:38 - loss: 0.0074 - PSNR: 27.3592"
     ]
    }
   ],
   "source": [
    "number_of_batches = len(train_data_generator) // STEPES_PER_EPOCH\n",
    "\n",
    "try:\n",
    "  if os.path.exists(\"weights.h5\"):\n",
    "    model.load_weights(\"weights.h5\")\n",
    "  else:\n",
    "    print(\"Starting pretrain\")\n",
    "    model.fit(train_data_generator, steps_per_epoch=STEPES_PER_EPOCH, epochs=PRETRAIN_EPOCHS * number_of_batches, callbacks=[callbacks.TensorBoard(\"logs/pretraining\")])\n",
    "\n",
    "  print(\"Starting training\")\n",
    "  model.fit(train_data_generator, steps_per_epoch=STEPES_PER_EPOCH, epochs=EPOCHS * number_of_batches,\n",
    "            callbacks=[callbacks.ReduceLROnPlateau(monitor='val_loss',patience=10,factor=0.5,verbose=1), callbacks.TensorBoard(\"logs/training\"), callbacks.ModelCheckpoint(\"model_checkpoint\", monitor=\"val_PSNR\", verbose=1, save_best_only=True, mode=\"max\")],\n",
    "            validation_data=test_data_generator, validation_steps=(STEPES_PER_EPOCH // 4) if STEPES_PER_EPOCH is not None else None)\n",
    "except KeyboardInterrupt:\n",
    "  model.save_weights(\"weights.h5\")"
   ]
  },
  {
   "cell_type": "code",
   "execution_count": null,
   "metadata": {},
   "outputs": [],
   "source": [
    "model.save(\"model.h5\", include_optimizer=False, save_format=\"h5\")"
   ]
  },
  {
   "cell_type": "markdown",
   "metadata": {},
   "source": [
    "Predictions"
   ]
  },
  {
   "cell_type": "code",
   "execution_count": null,
   "metadata": {},
   "outputs": [],
   "source": [
    "def denoise(sample, fs):\n",
    "  number_of_frames = sample.size // FRAME_SIZE\n",
    "  frames = [sample[idx * FRAME_SIZE : FRAME_SIZE + idx * FRAME_SIZE] for idx in range(number_of_frames)]\n",
    "\n",
    "  frames = np.array(frames)\n",
    "\n",
    "  fft = np.array([convert_imag_to_parts(np.fft.fft(frame)) for frame in frames])\n",
    "\n",
    "  output_frames = model.predict([frames, fft, np.ones((frames.shape[0], 1)) * fs])\n",
    "\n",
    "  final_frame = None\n",
    "  \n",
    "  for frame in output_frames:\n",
    "    frame = np.reshape(frame, (FRAME_SIZE,))\n",
    "\n",
    "    if final_frame is None:\n",
    "      final_frame = frame\n",
    "    else:\n",
    "      final_frame = np.concatenate([final_frame, frame], axis=0)\n",
    "\n",
    "  return final_frame"
   ]
  },
  {
   "cell_type": "code",
   "execution_count": null,
   "metadata": {},
   "outputs": [
    {
     "data": {
      "image/png": "[encoded data removed]",
      "text/plain": [
       "<Figure size 1296x576 with 1 Axes>"
      ]
     },
     "metadata": {
      "needs_background": "light"
     },
     "output_type": "display_data"
    },
    {
     "name": "stdout",
     "output_type": "stream",
     "text": [
      "(16384,)\n"
     ]
    },
    {
     "data": {
      "image/png": "[encoded data removed]",
      "text/plain": [
       "<Figure size 1296x576 with 1 Axes>"
      ]
     },
     "metadata": {
      "needs_background": "light"
     },
     "output_type": "display_data"
    }
   ],
   "source": [
    "samples_orig, sample_freq = sf.read(\"../audio/xdousa00.wav\")\n",
    "\n",
    "samples_normal = normalization(samples_orig) + 1\n",
    "samples_normal = normalization(samples_normal)\n",
    "\n",
    "plt.figure(figsize=(18,8))\n",
    "plt.title(\"Normalizovaný vstupní signál\")\n",
    "plt.plot(np.arange(samples_normal.size) / sample_freq, samples_normal)\n",
    "plt.gca().set_xlabel('$t[s]$')\n",
    "plt.gca().set_ylabel('$Amplituda[-]$')\n",
    "plt.show()\n",
    "\n",
    "cleared_signal = denoise(samples_normal, sample_freq)\n",
    "norm_cleared_signal = normalization(cleared_signal)\n",
    "\n",
    "print(norm_cleared_signal.shape)\n",
    "\n",
    "plt.figure(figsize=(18,8))\n",
    "plt.title(\"Vyčištěný signál\")\n",
    "plt.plot(np.arange(norm_cleared_signal.size) / sample_freq, norm_cleared_signal)\n",
    "plt.gca().set_xlabel('$t[s]$')\n",
    "plt.gca().set_ylabel('$Amplituda[-]$')\n",
    "plt.show()\n",
    "\n",
    "wavfile.write(\"clean_test.wav\", sample_freq, norm_cleared_signal)"
   ]
  },
  {
   "cell_type": "markdown",
   "metadata": {},
   "source": [
    "Cleanup"
   ]
  },
  {
   "cell_type": "code",
   "execution_count": null,
   "metadata": {},
   "outputs": [],
   "source": [
    "if input(\"Are you sure you want to delete datasets?\\n\") == \"y\":\n",
    "  shutil.rmtree(TRAIN_DATASET_PATH)\n",
    "  shutil.rmtree(TEST_DATASET_PATH)"
   ]
  }
 ],
 "metadata": {
  "interpreter": {
   "hash": "b65fa5fc1f58c1d32dad6f9c9505eeadcca0e46e66251bfc0668e571e415692e"
  },
  "kernelspec": {
   "display_name": "Python 3.9.5 64-bit ('venv': venv)",
   "language": "python",
   "name": "python3"
  },
  "language_info": {
   "codemirror_mode": {
    "name": "ipython",
    "version": 3
   },
   "file_extension": ".py",
   "mimetype": "text/x-python",
   "name": "python",
   "nbconvert_exporter": "python",
   "pygments_lexer": "ipython3",
   "version": "3.9.5"
  },
  "orig_nbformat": 4
 },
 "nbformat": 4,
 "nbformat_minor": 2
}
